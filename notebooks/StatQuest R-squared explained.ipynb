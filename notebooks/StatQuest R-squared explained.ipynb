{
 "cells": [
  {
   "cell_type": "markdown",
   "metadata": {},
   "source": [
    "# StatQuest: R-squared explained\n",
    "\n",
    "Video Link: https://www.youtube.com/watch?v=2AQKmw14mHM"
   ]
  },
  {
   "cell_type": "markdown",
   "metadata": {},
   "source": [
    "## Note: \n",
    "* For this notebook, we shall be using the Pima Indian Diabetes dataset and try and find meaningful correlations and insights from this widely used data. \n",
    "* We shall be writing all code in pure python and build functions from scratch\n",
    "* We shall be using libraries as well but only to confirm and test if our python functions work perfectly or not. \n",
    "* Finally we shall bring together all small functions into a single large generalized functions so we can reuse and test out with multiple different dataset features."
   ]
  },
  {
   "cell_type": "markdown",
   "metadata": {},
   "source": [
    "## Exploring the dataset"
   ]
  },
  {
   "cell_type": "code",
   "execution_count": 18,
   "metadata": {},
   "outputs": [],
   "source": [
    "import os\n",
    "import random\n",
    "import numpy as np\n",
    "import pandas as pd\n",
    "import matplotlib.pyplot as plt\n",
    "%matplotlib inline"
   ]
  },
  {
   "cell_type": "code",
   "execution_count": 14,
   "metadata": {},
   "outputs": [],
   "source": [
    "csv_path = '../dataset/diabetes.csv'"
   ]
  },
  {
   "cell_type": "code",
   "execution_count": 15,
   "metadata": {},
   "outputs": [],
   "source": [
    "df = pd.read_csv(csv_path)"
   ]
  },
  {
   "cell_type": "code",
   "execution_count": 16,
   "metadata": {},
   "outputs": [
    {
     "data": {
      "text/html": [
       "<div>\n",
       "<style scoped>\n",
       "    .dataframe tbody tr th:only-of-type {\n",
       "        vertical-align: middle;\n",
       "    }\n",
       "\n",
       "    .dataframe tbody tr th {\n",
       "        vertical-align: top;\n",
       "    }\n",
       "\n",
       "    .dataframe thead th {\n",
       "        text-align: right;\n",
       "    }\n",
       "</style>\n",
       "<table border=\"1\" class=\"dataframe\">\n",
       "  <thead>\n",
       "    <tr style=\"text-align: right;\">\n",
       "      <th></th>\n",
       "      <th>Pregnancies</th>\n",
       "      <th>Glucose</th>\n",
       "      <th>BloodPressure</th>\n",
       "      <th>SkinThickness</th>\n",
       "      <th>Insulin</th>\n",
       "      <th>BMI</th>\n",
       "      <th>DiabetesPedigreeFunction</th>\n",
       "      <th>Age</th>\n",
       "      <th>Outcome</th>\n",
       "    </tr>\n",
       "  </thead>\n",
       "  <tbody>\n",
       "    <tr>\n",
       "      <th>0</th>\n",
       "      <td>6</td>\n",
       "      <td>148</td>\n",
       "      <td>72</td>\n",
       "      <td>35</td>\n",
       "      <td>0</td>\n",
       "      <td>33.6</td>\n",
       "      <td>0.627</td>\n",
       "      <td>50</td>\n",
       "      <td>1</td>\n",
       "    </tr>\n",
       "    <tr>\n",
       "      <th>1</th>\n",
       "      <td>1</td>\n",
       "      <td>85</td>\n",
       "      <td>66</td>\n",
       "      <td>29</td>\n",
       "      <td>0</td>\n",
       "      <td>26.6</td>\n",
       "      <td>0.351</td>\n",
       "      <td>31</td>\n",
       "      <td>0</td>\n",
       "    </tr>\n",
       "    <tr>\n",
       "      <th>2</th>\n",
       "      <td>8</td>\n",
       "      <td>183</td>\n",
       "      <td>64</td>\n",
       "      <td>0</td>\n",
       "      <td>0</td>\n",
       "      <td>23.3</td>\n",
       "      <td>0.672</td>\n",
       "      <td>32</td>\n",
       "      <td>1</td>\n",
       "    </tr>\n",
       "    <tr>\n",
       "      <th>3</th>\n",
       "      <td>1</td>\n",
       "      <td>89</td>\n",
       "      <td>66</td>\n",
       "      <td>23</td>\n",
       "      <td>94</td>\n",
       "      <td>28.1</td>\n",
       "      <td>0.167</td>\n",
       "      <td>21</td>\n",
       "      <td>0</td>\n",
       "    </tr>\n",
       "    <tr>\n",
       "      <th>4</th>\n",
       "      <td>0</td>\n",
       "      <td>137</td>\n",
       "      <td>40</td>\n",
       "      <td>35</td>\n",
       "      <td>168</td>\n",
       "      <td>43.1</td>\n",
       "      <td>2.288</td>\n",
       "      <td>33</td>\n",
       "      <td>1</td>\n",
       "    </tr>\n",
       "  </tbody>\n",
       "</table>\n",
       "</div>"
      ],
      "text/plain": [
       "   Pregnancies  Glucose  BloodPressure  SkinThickness  Insulin   BMI  \\\n",
       "0            6      148             72             35        0  33.6   \n",
       "1            1       85             66             29        0  26.6   \n",
       "2            8      183             64              0        0  23.3   \n",
       "3            1       89             66             23       94  28.1   \n",
       "4            0      137             40             35      168  43.1   \n",
       "\n",
       "   DiabetesPedigreeFunction  Age  Outcome  \n",
       "0                     0.627   50        1  \n",
       "1                     0.351   31        0  \n",
       "2                     0.672   32        1  \n",
       "3                     0.167   21        0  \n",
       "4                     2.288   33        1  "
      ]
     },
     "execution_count": 16,
     "metadata": {},
     "output_type": "execute_result"
    }
   ],
   "source": [
    "df.head()"
   ]
  },
  {
   "cell_type": "markdown",
   "metadata": {},
   "source": []
  },
  {
   "cell_type": "markdown",
   "metadata": {},
   "source": [
    "## Prototyping features\n",
    "* As shown in the video, the mouse size and weight features are taken into consideration\n",
    "\n",
    "\n",
    "### Here we take the BloodPressure and BMI into account \n",
    "This isn't a random choice, we use these based on the conclusion drawn in mega survey published in JAMA\n",
    "https://jamanetwork.com/journals/jamanetworkopen/fullarticle/2696872#:~:text=Body%20mass%20index%20(BMI)%20is%20positively%20associated%20with%20both%20systolic,diastolic%20blood%20pressure%20(DBP).&text=Weight%20loss%20significantly%20reduces%20blood,BP%20but%20is%20causally%20associated."
   ]
  },
  {
   "cell_type": "markdown",
   "metadata": {},
   "source": [
    "### Lets plot the data first\n",
    "* X axis - BMI\n",
    "* Y axis - Blood pressure"
   ]
  },
  {
   "cell_type": "code",
   "execution_count": 25,
   "metadata": {},
   "outputs": [],
   "source": [
    "bmi = list(df.BMI)\n",
    "blood_pressure = list(df.BloodPressure)"
   ]
  },
  {
   "cell_type": "code",
   "execution_count": 26,
   "metadata": {},
   "outputs": [
    {
     "data": {
      "image/png": "[encoded data removed]",
      "text/plain": [
       "<Figure size 720x720 with 1 Axes>"
      ]
     },
     "metadata": {
      "needs_background": "light"
     },
     "output_type": "display_data"
    }
   ],
   "source": [
    "plt.figure(figsize=(10, 10))\n",
    "plt.scatter(x=bmi, y=blood_pressure)\n",
    "plt.xlabel('BMI')\n",
    "plt.ylabel('Blood Pressure')\n",
    "plt.show()"
   ]
  },
  {
   "cell_type": "markdown",
   "metadata": {},
   "source": [
    "## Get the mean of Blood Pressure and plot it as a line on the graph"
   ]
  },
  {
   "cell_type": "code",
   "execution_count": 27,
   "metadata": {},
   "outputs": [
    {
     "data": {
      "text/plain": [
       "69.10546875"
      ]
     },
     "execution_count": 27,
     "metadata": {},
     "output_type": "execute_result"
    }
   ],
   "source": [
    "mean_blood_pressure = sum(blood_pressure)/len(blood_pressure)\n",
    "mean_blood_pressure"
   ]
  },
  {
   "cell_type": "code",
   "execution_count": 29,
   "metadata": {},
   "outputs": [
    {
     "data": {
      "text/plain": [
       "(69.10546875, 69.10546875)"
      ]
     },
     "execution_count": 29,
     "metadata": {},
     "output_type": "execute_result"
    }
   ],
   "source": [
    "# basic verification\n",
    "np.mean(df.BloodPressure), df.BloodPressure.mean()"
   ]
  },
  {
   "cell_type": "code",
   "execution_count": 40,
   "metadata": {},
   "outputs": [
    {
     "data": {
      "image/png": "[encoded data removed]",
      "text/plain": [
       "<Figure size 720x720 with 1 Axes>"
      ]
     },
     "metadata": {
      "needs_background": "light"
     },
     "output_type": "display_data"
    }
   ],
   "source": [
    "plt.figure(figsize=(10, 10))\n",
    "plt.scatter(x=bmi, y=blood_pressure)\n",
    "plt.xlabel('BMI')\n",
    "plt.ylabel('Blood Pressure')\n",
    "plt.plot([mean_blood_pressure for x in range(int(max(bmi)))], color='black', linewidth = '3')\n",
    "plt.show()"
   ]
  },
  {
   "cell_type": "markdown",
   "metadata": {},
   "source": [
    "## The equation for the above drawn line is:\n",
    "#### y = mean_blood_pressure + 0*x\n",
    "For all points of x,\n",
    "turning it into this function"
   ]
  },
  {
   "cell_type": "code",
   "execution_count": 44,
   "metadata": {},
   "outputs": [],
   "source": [
    "def equation_of_line(slope, x, y_intercept):\n",
    "    return y_intercept  + slope * x"
   ]
  },
  {
   "cell_type": "markdown",
   "metadata": {},
   "source": [
    "## Calculate the variation of the data\n",
    "Formula: sum(blood pressure_i - mean)^2\n",
    "\n",
    "* We are calculating the residual - distance of point from the mean by doing blood (pressure of point i - mean)\n",
    "* We then square each value so that while taking the sum of these residuals, they dont cancel out each other"
   ]
  },
  {
   "cell_type": "code",
   "execution_count": 47,
   "metadata": {},
   "outputs": [],
   "source": [
    "points_on_mean_line = [equation_of_line(slope=0, x=x, y_intercept=mean_blood_pressure) for x in bmi]"
   ]
  },
  {
   "cell_type": "code",
   "execution_count": 48,
   "metadata": {},
   "outputs": [],
   "source": [
    "# could be done in a list comprehension too but trying to be verbose here\n",
    "residuals = []\n",
    "for i in range(len(blood_pressure)):\n",
    "    blood_pressure_value = blood_pressure[i]\n",
    "    point_on_line = points_on_mean_line[i]\n",
    "    residuals.append(blood_pressure_value - point_on_line)"
   ]
  },
  {
   "cell_type": "code",
   "execution_count": 49,
   "metadata": {},
   "outputs": [],
   "source": [
    "# square all residual values\n",
    "squared_array_of_residuals = [res**2 for res in residuals]"
   ]
  },
  {
   "cell_type": "code",
   "execution_count": 50,
   "metadata": {},
   "outputs": [],
   "source": [
    "# get the sum of squares of all squared residuals\n",
    "sum_of_squared_residuals = sum(squared_array_of_residuals)"
   ]
  },
  {
   "cell_type": "code",
   "execution_count": 51,
   "metadata": {},
   "outputs": [
    {
     "data": {
      "text/plain": [
       "287354.45703125"
      ]
     },
     "execution_count": 51,
     "metadata": {},
     "output_type": "execute_result"
    }
   ],
   "source": [
    "sum_of_squared_residuals"
   ]
  },
  {
   "cell_type": "code",
   "execution_count": 69,
   "metadata": {},
   "outputs": [],
   "source": [
    "variation_along_mean_line = sum_of_squared_residuals"
   ]
  },
  {
   "cell_type": "code",
   "execution_count": 62,
   "metadata": {},
   "outputs": [
    {
     "data": {
      "text/plain": [
       "287354.45703125"
      ]
     },
     "execution_count": 62,
     "metadata": {},
     "output_type": "execute_result"
    }
   ],
   "source": [
    "# verification using numpy\n",
    "sum_of_squared_residuals_numpy = np.sum(((np.array(df.BloodPressure) - mean_blood_pressure)**2))\n",
    "sum_of_squared_residuals_numpy"
   ]
  },
  {
   "cell_type": "markdown",
   "metadata": {},
   "source": [
    "# Now we find a line which best fits the data\n",
    "We shall do this using the least squares formula"
   ]
  },
  {
   "cell_type": "code",
   "execution_count": 63,
   "metadata": {},
   "outputs": [],
   "source": [
    "x_squared = [bmi_value**2 for bmi_value in bmi]\n",
    "xy = [bmi[i]*blood_pressure[i] for i in range(len(blood_pressure))]\n",
    "N = len(blood_pressure)"
   ]
  },
  {
   "cell_type": "code",
   "execution_count": 66,
   "metadata": {},
   "outputs": [
    {
     "data": {
      "text/plain": [
       "0.6918389034466967"
      ]
     },
     "execution_count": 66,
     "metadata": {},
     "output_type": "execute_result"
    }
   ],
   "source": [
    "# slope\n",
    "numerator = (N*sum(xy)) - (sum(bmi)*sum(blood_pressure))\n",
    "denominator = (N*sum(x_squared)) - (sum(bmi)**2)\n",
    "\n",
    "m = numerator/denominator\n",
    "m"
   ]
  },
  {
   "cell_type": "code",
   "execution_count": 67,
   "metadata": {},
   "outputs": [
    {
     "data": {
      "text/plain": [
       "46.97175858156724"
      ]
     },
     "execution_count": 67,
     "metadata": {},
     "output_type": "execute_result"
    }
   ],
   "source": [
    "# calculate y intercept\n",
    "c = (sum(blood_pressure) - m*sum(bmi))/N\n",
    "c"
   ]
  },
  {
   "cell_type": "code",
   "execution_count": 79,
   "metadata": {},
   "outputs": [
    {
     "data": {
      "text/plain": [
       "(0.6918389034467239, 46.971758581566334)"
      ]
     },
     "execution_count": 79,
     "metadata": {},
     "output_type": "execute_result"
    }
   ],
   "source": [
    "slope, intercept = np.polyfit(bmi, blood_pressure, 1)\n",
    "slope, intercept"
   ]
  },
  {
   "cell_type": "markdown",
   "metadata": {},
   "source": [
    "## Finding points fitting on the best fit line"
   ]
  },
  {
   "cell_type": "code",
   "execution_count": 68,
   "metadata": {},
   "outputs": [],
   "source": [
    "points_on_best_fit_line = [equation_of_line(slope=m, x=x, y_intercept=c) for x in bmi]"
   ]
  },
  {
   "cell_type": "code",
   "execution_count": null,
   "metadata": {},
   "outputs": [],
   "source": []
  },
  {
   "cell_type": "markdown",
   "metadata": {},
   "source": [
    "# Plot best fit line"
   ]
  },
  {
   "cell_type": "code",
   "execution_count": 81,
   "metadata": {},
   "outputs": [
    {
     "data": {
      "image/png": "[encoded data removed]",
      "text/plain": [
       "<Figure size 720x720 with 1 Axes>"
      ]
     },
     "metadata": {
      "needs_background": "light"
     },
     "output_type": "display_data"
    }
   ],
   "source": [
    "plt.figure(figsize=(10, 10))\n",
    "plt.scatter(x=bmi, y=blood_pressure)\n",
    "plt.xlabel('BMI')\n",
    "plt.ylabel('Blood Pressure')\n",
    "plt.plot(bmi, points_on_best_fit_line, color='black', linewidth = '3')\n",
    "plt.show()"
   ]
  },
  {
   "cell_type": "markdown",
   "metadata": {},
   "source": [
    "## Calculate the variation (sum of squared residuals) in the same way as done for mean line"
   ]
  },
  {
   "cell_type": "code",
   "execution_count": 82,
   "metadata": {},
   "outputs": [],
   "source": [
    "# could be done in a list comprehension too but trying to be verbose here\n",
    "residuals = []\n",
    "for i in range(len(blood_pressure)):\n",
    "    blood_pressure_value = blood_pressure[i]\n",
    "    point_on_line = points_on_best_fit_line[i]\n",
    "    residuals.append(blood_pressure_value - point_on_line)"
   ]
  },
  {
   "cell_type": "code",
   "execution_count": 83,
   "metadata": {},
   "outputs": [],
   "source": [
    "# square all residual values\n",
    "squared_array_of_residuals = [res**2 for res in residuals]"
   ]
  },
  {
   "cell_type": "code",
   "execution_count": 84,
   "metadata": {},
   "outputs": [],
   "source": [
    "# get the sum of squares of all squared residuals\n",
    "sum_of_squared_residuals = sum(squared_array_of_residuals)"
   ]
  },
  {
   "cell_type": "code",
   "execution_count": 85,
   "metadata": {},
   "outputs": [
    {
     "data": {
      "text/plain": [
       "264534.4267258719"
      ]
     },
     "execution_count": 85,
     "metadata": {},
     "output_type": "execute_result"
    }
   ],
   "source": [
    "sum_of_squared_residuals"
   ]
  },
  {
   "cell_type": "code",
   "execution_count": 86,
   "metadata": {},
   "outputs": [],
   "source": [
    "variation_along_best_fit_line = sum_of_squared_residuals"
   ]
  },
  {
   "cell_type": "code",
   "execution_count": 87,
   "metadata": {},
   "outputs": [
    {
     "data": {
      "text/plain": [
       "264534.4267258725"
      ]
     },
     "execution_count": 87,
     "metadata": {},
     "output_type": "execute_result"
    }
   ],
   "source": [
    "# verification using numpy\n",
    "sum_of_squared_residuals_numpy = np.sum(((np.array(df.BloodPressure) - np.array(points_on_best_fit_line))**2))\n",
    "sum_of_squared_residuals_numpy"
   ]
  },
  {
   "cell_type": "markdown",
   "metadata": {},
   "source": [
    "## Calculating r squared\n",
    "\n",
    "Formula = (variation along mean line - variation along best fit line)/ variation along mean line"
   ]
  },
  {
   "cell_type": "code",
   "execution_count": 88,
   "metadata": {},
   "outputs": [],
   "source": [
    "r_squared = (variation_along_mean_line - variation_along_best_fit_line)/variation_along_mean_line"
   ]
  },
  {
   "cell_type": "code",
   "execution_count": 89,
   "metadata": {},
   "outputs": [
    {
     "data": {
      "text/plain": [
       "0.07941422082378345"
      ]
     },
     "execution_count": 89,
     "metadata": {},
     "output_type": "execute_result"
    }
   ],
   "source": [
    "r_squared"
   ]
  },
  {
   "cell_type": "code",
   "execution_count": null,
   "metadata": {},
   "outputs": [],
   "source": []
  },
  {
   "cell_type": "code",
   "execution_count": 91,
   "metadata": {},
   "outputs": [
    {
     "name": "stdout",
     "output_type": "stream",
     "text": [
      "0.07941422082378156\n"
     ]
    }
   ],
   "source": [
    "# verification of r squared using numpy\n",
    "corr_matrix = np.corrcoef(bmi, blood_pressure)\n",
    "corr = corr_matrix[0,1]\n",
    "R_sq = corr**2\n",
    " \n",
    "print(R_sq)"
   ]
  },
  {
   "cell_type": "code",
   "execution_count": 92,
   "metadata": {},
   "outputs": [
    {
     "data": {
      "text/plain": [
       "0.28180528884991063"
      ]
     },
     "execution_count": 92,
     "metadata": {},
     "output_type": "execute_result"
    }
   ],
   "source": [
    "corr"
   ]
  },
  {
   "cell_type": "code",
   "execution_count": 95,
   "metadata": {},
   "outputs": [
    {
     "name": "stdout",
     "output_type": "stream",
     "text": [
      "0.07941422082378158\n"
     ]
    }
   ],
   "source": [
    "## Lastly checking with scikit-learn\n",
    "from sklearn.linear_model import LinearRegression\n",
    "from sklearn.metrics import mean_squared_error\n",
    "\n",
    "\n",
    "X = np.array(bmi)\n",
    "Y = np.array(blood_pressure)\n",
    "# Cannot use Rank 1 matrix in scikit learn\n",
    "X = X.reshape((len(bmi), 1))\n",
    "# Creating Model\n",
    "reg = LinearRegression()\n",
    "# Fitting training data\n",
    "reg = reg.fit(X, Y)\n",
    "# Y Prediction\n",
    "Y_pred = reg.predict(X)\n",
    " \n",
    "# Calculating R2 Score\n",
    "r2_score = reg.score(X, Y)\n",
    " \n",
    "print(r2_score)\n",
    "\n",
    "# hurray, our python code's output is extremely close to the one calculated from sklearn's"
   ]
  },
  {
   "cell_type": "markdown",
   "metadata": {},
   "source": [
    "# Insights\n",
    "* There is definitely a positive correlation between the bmi or a person and their blood pressure\n",
    "* Our goal was to quantify how better or worse did our best_fit_line fit the data than the mean line\n",
    "* In this case, apparently the goodness of fit (quantification of fit) wasn't quite high for this dataset\n",
    "* This still has the value that BMI and Blood pressure are correlated positively\n",
    "* Although if only the BMI is given, as a sole independent variable, it isn't enough and the best way to predict a person's Blood pressure, atleast in the realms of this dataset"
   ]
  },
  {
   "cell_type": "markdown",
   "metadata": {},
   "source": [
    "## Generalized function"
   ]
  },
  {
   "cell_type": "code",
   "execution_count": 103,
   "metadata": {},
   "outputs": [],
   "source": [
    "def variation_around_line(data_points, line_points):\n",
    "    sum_of_squared_residuals = float(np.sum(((np.array(data_points) - np.array(line_points))**2)))\n",
    "    return sum_of_squared_residuals"
   ]
  },
  {
   "cell_type": "code",
   "execution_count": 137,
   "metadata": {},
   "outputs": [],
   "source": [
    "# making a generalized function \n",
    "# takes in the feature/column names as input \n",
    "def get_r_squared(df, x_feature_name, y_feature_name, plot=True):\n",
    "    \n",
    "    x = list(df[x_feature_name])\n",
    "    y = list(df[y_feature_name])\n",
    "    \n",
    "    # find mean of y feature\n",
    "    y_mean = np.mean(y)\n",
    "    # find points of y mean line\n",
    "    points_on_mean_line = [equation_of_line(slope=0, x=i, y_intercept=y_mean) for i in x]\n",
    "    \n",
    "    # find data variation along the mean line\n",
    "    variation_along_mean_line = variation_around_line(y, points_on_mean_line)\n",
    "    \n",
    "    # find the best fit line\n",
    "    slope, intercept = np.polyfit(x, y, 1)\n",
    "    points_on_best_fit_line = [equation_of_line(slope=slope, x=i, y_intercept=intercept) for i in x]\n",
    "    \n",
    "    # find variation around the best fit line\n",
    "    variation_along_best_fit_line = variation_around_line(y, points_on_best_fit_line)\n",
    "    \n",
    "    r_squared = (variation_along_mean_line - variation_along_best_fit_line)/variation_along_mean_line\n",
    "    \n",
    "    # sklearns function\n",
    "    X = np.array(x)\n",
    "    Y = np.array(y)\n",
    "    # Cannot use Rank 1 matrix in scikit learn\n",
    "    X = X.reshape((len(x), 1))\n",
    "    # Creating Model\n",
    "    reg = LinearRegression()\n",
    "    # Fitting training data\n",
    "    reg = reg.fit(X, Y)\n",
    "    # Y Prediction\n",
    "    Y_pred = reg.predict(X)\n",
    "\n",
    "    # Calculating R2 Score\n",
    "    r2_score = reg.score(X, Y)\n",
    "    \n",
    "    if plot == True:\n",
    "        plt.figure(figsize=(10, 10))\n",
    "        plt.scatter(x=x, y=y)\n",
    "        plt.xlabel(x_feature_name)\n",
    "        plt.ylabel(y_feature_name)\n",
    "        plt.plot(x, points_on_mean_line, color='black', linewidth='3')\n",
    "        plt.plot(x, points_on_best_fit_line, color='red', linewidth = '3')\n",
    "        plt.title('r squared: {}'.format(r_squared))\n",
    "        plt.show()\n",
    "    else:\n",
    "        return r_squared, r2_score"
   ]
  },
  {
   "cell_type": "code",
   "execution_count": 138,
   "metadata": {},
   "outputs": [
    {
     "data": {
      "text/html": [
       "<div>\n",
       "<style scoped>\n",
       "    .dataframe tbody tr th:only-of-type {\n",
       "        vertical-align: middle;\n",
       "    }\n",
       "\n",
       "    .dataframe tbody tr th {\n",
       "        vertical-align: top;\n",
       "    }\n",
       "\n",
       "    .dataframe thead th {\n",
       "        text-align: right;\n",
       "    }\n",
       "</style>\n",
       "<table border=\"1\" class=\"dataframe\">\n",
       "  <thead>\n",
       "    <tr style=\"text-align: right;\">\n",
       "      <th></th>\n",
       "      <th>Pregnancies</th>\n",
       "      <th>Glucose</th>\n",
       "      <th>BloodPressure</th>\n",
       "      <th>SkinThickness</th>\n",
       "      <th>Insulin</th>\n",
       "      <th>BMI</th>\n",
       "      <th>DiabetesPedigreeFunction</th>\n",
       "      <th>Age</th>\n",
       "      <th>Outcome</th>\n",
       "    </tr>\n",
       "  </thead>\n",
       "  <tbody>\n",
       "    <tr>\n",
       "      <th>0</th>\n",
       "      <td>6</td>\n",
       "      <td>148</td>\n",
       "      <td>72</td>\n",
       "      <td>35</td>\n",
       "      <td>0</td>\n",
       "      <td>33.6</td>\n",
       "      <td>0.627</td>\n",
       "      <td>50</td>\n",
       "      <td>1</td>\n",
       "    </tr>\n",
       "    <tr>\n",
       "      <th>1</th>\n",
       "      <td>1</td>\n",
       "      <td>85</td>\n",
       "      <td>66</td>\n",
       "      <td>29</td>\n",
       "      <td>0</td>\n",
       "      <td>26.6</td>\n",
       "      <td>0.351</td>\n",
       "      <td>31</td>\n",
       "      <td>0</td>\n",
       "    </tr>\n",
       "    <tr>\n",
       "      <th>2</th>\n",
       "      <td>8</td>\n",
       "      <td>183</td>\n",
       "      <td>64</td>\n",
       "      <td>0</td>\n",
       "      <td>0</td>\n",
       "      <td>23.3</td>\n",
       "      <td>0.672</td>\n",
       "      <td>32</td>\n",
       "      <td>1</td>\n",
       "    </tr>\n",
       "    <tr>\n",
       "      <th>3</th>\n",
       "      <td>1</td>\n",
       "      <td>89</td>\n",
       "      <td>66</td>\n",
       "      <td>23</td>\n",
       "      <td>94</td>\n",
       "      <td>28.1</td>\n",
       "      <td>0.167</td>\n",
       "      <td>21</td>\n",
       "      <td>0</td>\n",
       "    </tr>\n",
       "    <tr>\n",
       "      <th>4</th>\n",
       "      <td>0</td>\n",
       "      <td>137</td>\n",
       "      <td>40</td>\n",
       "      <td>35</td>\n",
       "      <td>168</td>\n",
       "      <td>43.1</td>\n",
       "      <td>2.288</td>\n",
       "      <td>33</td>\n",
       "      <td>1</td>\n",
       "    </tr>\n",
       "  </tbody>\n",
       "</table>\n",
       "</div>"
      ],
      "text/plain": [
       "   Pregnancies  Glucose  BloodPressure  SkinThickness  Insulin   BMI  \\\n",
       "0            6      148             72             35        0  33.6   \n",
       "1            1       85             66             29        0  26.6   \n",
       "2            8      183             64              0        0  23.3   \n",
       "3            1       89             66             23       94  28.1   \n",
       "4            0      137             40             35      168  43.1   \n",
       "\n",
       "   DiabetesPedigreeFunction  Age  Outcome  \n",
       "0                     0.627   50        1  \n",
       "1                     0.351   31        0  \n",
       "2                     0.672   32        1  \n",
       "3                     0.167   21        0  \n",
       "4                     2.288   33        1  "
      ]
     },
     "execution_count": 138,
     "metadata": {},
     "output_type": "execute_result"
    }
   ],
   "source": [
    "df.head()"
   ]
  },
  {
   "cell_type": "code",
   "execution_count": 139,
   "metadata": {},
   "outputs": [
    {
     "data": {
      "image/png": "[encoded data removed]",
      "text/plain": [
       "<Figure size 720x720 with 1 Axes>"
      ]
     },
     "metadata": {
      "needs_background": "light"
     },
     "output_type": "display_data"
    }
   ],
   "source": [
    "# Do a check for our originally tested features to validate numbers\n",
    "get_r_squared(df=df, x_feature_name='BMI', y_feature_name='BloodPressure') # it works"
   ]
  },
  {
   "cell_type": "markdown",
   "metadata": {},
   "source": [
    "## Computing for one to many features for all features"
   ]
  },
  {
   "cell_type": "code",
   "execution_count": 140,
   "metadata": {},
   "outputs": [
    {
     "data": {
      "text/html": [
       "<div>\n",
       "<style scoped>\n",
       "    .dataframe tbody tr th:only-of-type {\n",
       "        vertical-align: middle;\n",
       "    }\n",
       "\n",
       "    .dataframe tbody tr th {\n",
       "        vertical-align: top;\n",
       "    }\n",
       "\n",
       "    .dataframe thead th {\n",
       "        text-align: right;\n",
       "    }\n",
       "</style>\n",
       "<table border=\"1\" class=\"dataframe\">\n",
       "  <thead>\n",
       "    <tr style=\"text-align: right;\">\n",
       "      <th></th>\n",
       "      <th>Pregnancies</th>\n",
       "      <th>Glucose</th>\n",
       "      <th>BloodPressure</th>\n",
       "      <th>SkinThickness</th>\n",
       "      <th>Insulin</th>\n",
       "      <th>BMI</th>\n",
       "      <th>DiabetesPedigreeFunction</th>\n",
       "      <th>Age</th>\n",
       "      <th>Outcome</th>\n",
       "    </tr>\n",
       "  </thead>\n",
       "  <tbody>\n",
       "    <tr>\n",
       "      <th>0</th>\n",
       "      <td>6</td>\n",
       "      <td>148</td>\n",
       "      <td>72</td>\n",
       "      <td>35</td>\n",
       "      <td>0</td>\n",
       "      <td>33.6</td>\n",
       "      <td>0.627</td>\n",
       "      <td>50</td>\n",
       "      <td>1</td>\n",
       "    </tr>\n",
       "    <tr>\n",
       "      <th>1</th>\n",
       "      <td>1</td>\n",
       "      <td>85</td>\n",
       "      <td>66</td>\n",
       "      <td>29</td>\n",
       "      <td>0</td>\n",
       "      <td>26.6</td>\n",
       "      <td>0.351</td>\n",
       "      <td>31</td>\n",
       "      <td>0</td>\n",
       "    </tr>\n",
       "    <tr>\n",
       "      <th>2</th>\n",
       "      <td>8</td>\n",
       "      <td>183</td>\n",
       "      <td>64</td>\n",
       "      <td>0</td>\n",
       "      <td>0</td>\n",
       "      <td>23.3</td>\n",
       "      <td>0.672</td>\n",
       "      <td>32</td>\n",
       "      <td>1</td>\n",
       "    </tr>\n",
       "    <tr>\n",
       "      <th>3</th>\n",
       "      <td>1</td>\n",
       "      <td>89</td>\n",
       "      <td>66</td>\n",
       "      <td>23</td>\n",
       "      <td>94</td>\n",
       "      <td>28.1</td>\n",
       "      <td>0.167</td>\n",
       "      <td>21</td>\n",
       "      <td>0</td>\n",
       "    </tr>\n",
       "    <tr>\n",
       "      <th>4</th>\n",
       "      <td>0</td>\n",
       "      <td>137</td>\n",
       "      <td>40</td>\n",
       "      <td>35</td>\n",
       "      <td>168</td>\n",
       "      <td>43.1</td>\n",
       "      <td>2.288</td>\n",
       "      <td>33</td>\n",
       "      <td>1</td>\n",
       "    </tr>\n",
       "  </tbody>\n",
       "</table>\n",
       "</div>"
      ],
      "text/plain": [
       "   Pregnancies  Glucose  BloodPressure  SkinThickness  Insulin   BMI  \\\n",
       "0            6      148             72             35        0  33.6   \n",
       "1            1       85             66             29        0  26.6   \n",
       "2            8      183             64              0        0  23.3   \n",
       "3            1       89             66             23       94  28.1   \n",
       "4            0      137             40             35      168  43.1   \n",
       "\n",
       "   DiabetesPedigreeFunction  Age  Outcome  \n",
       "0                     0.627   50        1  \n",
       "1                     0.351   31        0  \n",
       "2                     0.672   32        1  \n",
       "3                     0.167   21        0  \n",
       "4                     2.288   33        1  "
      ]
     },
     "execution_count": 140,
     "metadata": {},
     "output_type": "execute_result"
    }
   ],
   "source": [
    "df.head()"
   ]
  },
  {
   "cell_type": "code",
   "execution_count": 141,
   "metadata": {},
   "outputs": [
    {
     "data": {
      "text/plain": [
       "Index(['Pregnancies', 'Glucose', 'BloodPressure', 'SkinThickness', 'Insulin',\n",
       "       'BMI', 'DiabetesPedigreeFunction', 'Age', 'Outcome'],\n",
       "      dtype='object')"
      ]
     },
     "execution_count": 141,
     "metadata": {},
     "output_type": "execute_result"
    }
   ],
   "source": [
    "df.columns"
   ]
  },
  {
   "cell_type": "code",
   "execution_count": 142,
   "metadata": {},
   "outputs": [],
   "source": [
    "r_squared_dictionary = {}\n",
    "r_squared_sklearn = {}\n",
    "list_of_columns_to_be_analysed = ['Pregnancies', 'Glucose', \n",
    "                                  'BloodPressure', 'SkinThickness', \n",
    "                                  'Insulin', 'BMI', \n",
    "                                  'DiabetesPedigreeFunction', 'Age']\n",
    "\n",
    "for column1 in list_of_columns_to_be_analysed:\n",
    "    for column2 in list_of_columns_to_be_analysed:\n",
    "        if column1 == column2:\n",
    "            continue\n",
    "        else:\n",
    "            our_r2_score, sklearn_r_score = get_r_squared(df=df, \n",
    "                                                          x_feature_name=column1,\n",
    "                                                          y_feature_name=column2,\n",
    "                                                          plot=False)\n",
    "            \n",
    "            r_squared_dictionary[f'{column1}_V_{column2}'] = our_r2_score\n",
    "            r_squared_sklearn[f'{column1}_V_{column2}'] = sklearn_r_score"
   ]
  },
  {
   "cell_type": "code",
   "execution_count": 143,
   "metadata": {},
   "outputs": [
    {
     "data": {
      "text/plain": [
       "{'Pregnancies_V_Glucose': 0.01675954762635651,\n",
       " 'Pregnancies_V_BloodPressure': 0.019960597140071604,\n",
       " 'Pregnancies_V_SkinThickness': 0.006670278741649795,\n",
       " 'Pregnancies_V_Insulin': 0.005407339507842597,\n",
       " 'Pregnancies_V_BMI': 0.0003126916976887494,\n",
       " 'Pregnancies_V_DiabetesPedigreeFunction': 0.0011237696025586316,\n",
       " 'Pregnancies_V_Age': 0.2963073729385674,\n",
       " 'Glucose_V_Pregnancies': 0.016759547626356314,\n",
       " 'Glucose_V_BloodPressure': 0.023283581929195975,\n",
       " 'Glucose_V_SkinThickness': 0.0032864870564884817,\n",
       " 'Glucose_V_Insulin': 0.10979753429467363,\n",
       " 'Glucose_V_BMI': 0.04887241775173835,\n",
       " 'Glucose_V_DiabetesPedigreeFunction': 0.018861533924148063,\n",
       " 'Glucose_V_Age': 0.06943979675248121,\n",
       " 'BloodPressure_V_Pregnancies': 0.019960597140071222,\n",
       " 'BloodPressure_V_Glucose': 0.023283581929195885,\n",
       " 'BloodPressure_V_SkinThickness': 0.04300254019757957,\n",
       " 'BloodPressure_V_Insulin': 0.007909145788869604,\n",
       " 'BloodPressure_V_BMI': 0.07941422082378141,\n",
       " 'BloodPressure_V_DiabetesPedigreeFunction': 0.001702795927673945,\n",
       " 'BloodPressure_V_Age': 0.05737363711683567,\n",
       " 'SkinThickness_V_Pregnancies': 0.006670278741649201,\n",
       " 'SkinThickness_V_Glucose': 0.003286487056488302,\n",
       " 'SkinThickness_V_BloodPressure': 0.043002540197579285,\n",
       " 'SkinThickness_V_Insulin': 0.19077901356064422,\n",
       " 'SkinThickness_V_BMI': 0.1541137206236938,\n",
       " 'SkinThickness_V_DiabetesPedigreeFunction': 0.03382935209280908,\n",
       " 'SkinThickness_V_Age': 0.012989220704171939,\n",
       " 'Insulin_V_Pregnancies': 0.005407339507842366,\n",
       " 'Insulin_V_Glucose': 0.10979753429467336,\n",
       " 'Insulin_V_BloodPressure': 0.007909145788869483,\n",
       " 'Insulin_V_SkinThickness': 0.1907790135606442,\n",
       " 'Insulin_V_BMI': 0.03914820623634018,\n",
       " 'Insulin_V_DiabetesPedigreeFunction': 0.03425124882314362,\n",
       " 'Insulin_V_Age': 0.0017777147520175792,\n",
       " 'BMI_V_Pregnancies': 0.00031269169768846595,\n",
       " 'BMI_V_Glucose': 0.048872417751738395,\n",
       " 'BMI_V_BloodPressure': 0.07941422082378163,\n",
       " 'BMI_V_SkinThickness': 0.1541137206236942,\n",
       " 'BMI_V_Insulin': 0.039148206236340216,\n",
       " 'BMI_V_DiabetesPedigreeFunction': 0.019781565260225092,\n",
       " 'BMI_V_Age': 0.0013134731477868517,\n",
       " 'DiabetesPedigreeFunction_V_Pregnancies': 0.0011237696025580596,\n",
       " 'DiabetesPedigreeFunction_V_Glucose': 0.018861533924147827,\n",
       " 'DiabetesPedigreeFunction_V_BloodPressure': 0.0017027959276739015,\n",
       " 'DiabetesPedigreeFunction_V_SkinThickness': 0.03382935209280921,\n",
       " 'DiabetesPedigreeFunction_V_Insulin': 0.03425124882314359,\n",
       " 'DiabetesPedigreeFunction_V_BMI': 0.01978156526022515,\n",
       " 'DiabetesPedigreeFunction_V_Age': 0.0011263616923466381,\n",
       " 'Age_V_Pregnancies': 0.2963073729385671,\n",
       " 'Age_V_Glucose': 0.06943979675248116,\n",
       " 'Age_V_BloodPressure': 0.05737363711683567,\n",
       " 'Age_V_SkinThickness': 0.012989220704171923,\n",
       " 'Age_V_Insulin': 0.0017777147520176275,\n",
       " 'Age_V_BMI': 0.0013134731477867452,\n",
       " 'Age_V_DiabetesPedigreeFunction': 0.0011263616923467424}"
      ]
     },
     "execution_count": 143,
     "metadata": {},
     "output_type": "execute_result"
    }
   ],
   "source": [
    "r_squared_dictionary"
   ]
  },
  {
   "cell_type": "code",
   "execution_count": 144,
   "metadata": {},
   "outputs": [
    {
     "data": {
      "text/plain": [
       "{'Pregnancies_V_Glucose': 0.016759547626356674,\n",
       " 'Pregnancies_V_BloodPressure': 0.019960597140071368,\n",
       " 'Pregnancies_V_SkinThickness': 0.0066702787416494935,\n",
       " 'Pregnancies_V_Insulin': 0.005407339507842557,\n",
       " 'Pregnancies_V_BMI': 0.0003126916976887717,\n",
       " 'Pregnancies_V_DiabetesPedigreeFunction': 0.0011237696025586663,\n",
       " 'Pregnancies_V_Age': 0.29630737293856724,\n",
       " 'Glucose_V_Pregnancies': 0.01675954762635634,\n",
       " 'Glucose_V_BloodPressure': 0.023283581929195996,\n",
       " 'Glucose_V_SkinThickness': 0.003286487056488485,\n",
       " 'Glucose_V_Insulin': 0.10979753429467365,\n",
       " 'Glucose_V_BMI': 0.04887241775173845,\n",
       " 'Glucose_V_DiabetesPedigreeFunction': 0.018861533924148022,\n",
       " 'Glucose_V_Age': 0.06943979675248124,\n",
       " 'BloodPressure_V_Pregnancies': 0.019960597140071257,\n",
       " 'BloodPressure_V_Glucose': 0.023283581929195885,\n",
       " 'BloodPressure_V_SkinThickness': 0.04300254019757954,\n",
       " 'BloodPressure_V_Insulin': 0.007909145788869809,\n",
       " 'BloodPressure_V_BMI': 0.07941422082378169,\n",
       " 'BloodPressure_V_DiabetesPedigreeFunction': 0.0017027959276739724,\n",
       " 'BloodPressure_V_Age': 0.05737363711683552,\n",
       " 'SkinThickness_V_Pregnancies': 0.0066702787416491605,\n",
       " 'SkinThickness_V_Glucose': 0.003286487056488263,\n",
       " 'SkinThickness_V_BloodPressure': 0.04300254019757954,\n",
       " 'SkinThickness_V_Insulin': 0.19077901356064408,\n",
       " 'SkinThickness_V_BMI': 0.154113720623694,\n",
       " 'SkinThickness_V_DiabetesPedigreeFunction': 0.03382935209280924,\n",
       " 'SkinThickness_V_Age': 0.012989220704171967,\n",
       " 'Insulin_V_Pregnancies': 0.005407339507842335,\n",
       " 'Insulin_V_Glucose': 0.10979753429467354,\n",
       " 'Insulin_V_BloodPressure': 0.007909145788869476,\n",
       " 'Insulin_V_SkinThickness': 0.1907790135606442,\n",
       " 'Insulin_V_BMI': 0.03914820623634019,\n",
       " 'Insulin_V_DiabetesPedigreeFunction': 0.034251248823143676,\n",
       " 'Insulin_V_Age': 0.0017777147520176007,\n",
       " 'BMI_V_Pregnancies': 0.00031269169768843863,\n",
       " 'BMI_V_Glucose': 0.04887241775173856,\n",
       " 'BMI_V_BloodPressure': 0.07941422082378158,\n",
       " 'BMI_V_SkinThickness': 0.15411372062369422,\n",
       " 'BMI_V_Insulin': 0.03914820623634019,\n",
       " 'BMI_V_DiabetesPedigreeFunction': 0.01978156526022512,\n",
       " 'BMI_V_Age': 0.0013134731477868478,\n",
       " 'DiabetesPedigreeFunction_V_Pregnancies': 0.0011237696025581112,\n",
       " 'DiabetesPedigreeFunction_V_Glucose': 0.0188615339241478,\n",
       " 'DiabetesPedigreeFunction_V_BloodPressure': 0.0017027959276738613,\n",
       " 'DiabetesPedigreeFunction_V_SkinThickness': 0.03382935209280924,\n",
       " 'DiabetesPedigreeFunction_V_Insulin': 0.034251248823143565,\n",
       " 'DiabetesPedigreeFunction_V_BMI': 0.01978156526022501,\n",
       " 'DiabetesPedigreeFunction_V_Age': 0.0011263616923468112,\n",
       " 'Age_V_Pregnancies': 0.2963073729385671,\n",
       " 'Age_V_Glucose': 0.06943979675248113,\n",
       " 'Age_V_BloodPressure': 0.05737363711683563,\n",
       " 'Age_V_SkinThickness': 0.012989220704172078,\n",
       " 'Age_V_Insulin': 0.0017777147520176007,\n",
       " 'Age_V_BMI': 0.0013134731477867367,\n",
       " 'Age_V_DiabetesPedigreeFunction': 0.0011263616923467001}"
      ]
     },
     "execution_count": 144,
     "metadata": {},
     "output_type": "execute_result"
    }
   ],
   "source": [
    "r_squared_sklearn"
   ]
  },
  {
   "cell_type": "code",
   "execution_count": 150,
   "metadata": {},
   "outputs": [
    {
     "data": {
      "image/png": "[encoded data removed]",
      "text/plain": [
       "<Figure size 720x720 with 1 Axes>"
      ]
     },
     "metadata": {
      "needs_background": "light"
     },
     "output_type": "display_data"
    }
   ],
   "source": [
    "get_r_squared(df=df, \n",
    "              x_feature_name='Glucose',\n",
    "              y_feature_name='Insulin',\n",
    "              plot=True)"
   ]
  },
  {
   "cell_type": "code",
   "execution_count": null,
   "metadata": {},
   "outputs": [],
   "source": []
  }
 ],
 "metadata": {
  "kernelspec": {
   "display_name": "Python 3",
   "language": "python",
   "name": "python3"
  },
  "language_info": {
   "codemirror_mode": {
    "name": "ipython",
    "version": 3
   },
   "file_extension": ".py",
   "mimetype": "text/x-python",
   "name": "python",
   "nbconvert_exporter": "python",
   "pygments_lexer": "ipython3",
   "version": "3.6.9"
  }
 },
 "nbformat": 4,
 "nbformat_minor": 4
}
