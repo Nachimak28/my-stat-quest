{
 "cells": [
  {
   "cell_type": "code",
   "execution_count": 31,
   "metadata": {},
   "outputs": [],
   "source": [
    "import os\n",
    "import random\n",
    "import numpy as np\n",
    "import pandas as pd\n",
    "from scipy.stats import norm\n",
    "import matplotlib.pyplot as plt\n",
    "%matplotlib inline"
   ]
  },
  {
   "cell_type": "markdown",
   "metadata": {},
   "source": [
    "# Reading the data"
   ]
  },
  {
   "cell_type": "code",
   "execution_count": 4,
   "metadata": {},
   "outputs": [],
   "source": [
    "df = pd.read_csv('../dataset/diabetes.csv')"
   ]
  },
  {
   "cell_type": "code",
   "execution_count": 5,
   "metadata": {},
   "outputs": [
    {
     "data": {
      "text/html": [
       "<div>\n",
       "<style scoped>\n",
       "    .dataframe tbody tr th:only-of-type {\n",
       "        vertical-align: middle;\n",
       "    }\n",
       "\n",
       "    .dataframe tbody tr th {\n",
       "        vertical-align: top;\n",
       "    }\n",
       "\n",
       "    .dataframe thead th {\n",
       "        text-align: right;\n",
       "    }\n",
       "</style>\n",
       "<table border=\"1\" class=\"dataframe\">\n",
       "  <thead>\n",
       "    <tr style=\"text-align: right;\">\n",
       "      <th></th>\n",
       "      <th>Pregnancies</th>\n",
       "      <th>Glucose</th>\n",
       "      <th>BloodPressure</th>\n",
       "      <th>SkinThickness</th>\n",
       "      <th>Insulin</th>\n",
       "      <th>BMI</th>\n",
       "      <th>DiabetesPedigreeFunction</th>\n",
       "      <th>Age</th>\n",
       "      <th>Outcome</th>\n",
       "    </tr>\n",
       "  </thead>\n",
       "  <tbody>\n",
       "    <tr>\n",
       "      <th>0</th>\n",
       "      <td>6</td>\n",
       "      <td>148</td>\n",
       "      <td>72</td>\n",
       "      <td>35</td>\n",
       "      <td>0</td>\n",
       "      <td>33.6</td>\n",
       "      <td>0.627</td>\n",
       "      <td>50</td>\n",
       "      <td>1</td>\n",
       "    </tr>\n",
       "    <tr>\n",
       "      <th>1</th>\n",
       "      <td>1</td>\n",
       "      <td>85</td>\n",
       "      <td>66</td>\n",
       "      <td>29</td>\n",
       "      <td>0</td>\n",
       "      <td>26.6</td>\n",
       "      <td>0.351</td>\n",
       "      <td>31</td>\n",
       "      <td>0</td>\n",
       "    </tr>\n",
       "    <tr>\n",
       "      <th>2</th>\n",
       "      <td>8</td>\n",
       "      <td>183</td>\n",
       "      <td>64</td>\n",
       "      <td>0</td>\n",
       "      <td>0</td>\n",
       "      <td>23.3</td>\n",
       "      <td>0.672</td>\n",
       "      <td>32</td>\n",
       "      <td>1</td>\n",
       "    </tr>\n",
       "    <tr>\n",
       "      <th>3</th>\n",
       "      <td>1</td>\n",
       "      <td>89</td>\n",
       "      <td>66</td>\n",
       "      <td>23</td>\n",
       "      <td>94</td>\n",
       "      <td>28.1</td>\n",
       "      <td>0.167</td>\n",
       "      <td>21</td>\n",
       "      <td>0</td>\n",
       "    </tr>\n",
       "    <tr>\n",
       "      <th>4</th>\n",
       "      <td>0</td>\n",
       "      <td>137</td>\n",
       "      <td>40</td>\n",
       "      <td>35</td>\n",
       "      <td>168</td>\n",
       "      <td>43.1</td>\n",
       "      <td>2.288</td>\n",
       "      <td>33</td>\n",
       "      <td>1</td>\n",
       "    </tr>\n",
       "  </tbody>\n",
       "</table>\n",
       "</div>"
      ],
      "text/plain": [
       "   Pregnancies  Glucose  BloodPressure  SkinThickness  Insulin   BMI  \\\n",
       "0            6      148             72             35        0  33.6   \n",
       "1            1       85             66             29        0  26.6   \n",
       "2            8      183             64              0        0  23.3   \n",
       "3            1       89             66             23       94  28.1   \n",
       "4            0      137             40             35      168  43.1   \n",
       "\n",
       "   DiabetesPedigreeFunction  Age  Outcome  \n",
       "0                     0.627   50        1  \n",
       "1                     0.351   31        0  \n",
       "2                     0.672   32        1  \n",
       "3                     0.167   21        0  \n",
       "4                     2.288   33        1  "
      ]
     },
     "execution_count": 5,
     "metadata": {},
     "output_type": "execute_result"
    }
   ],
   "source": [
    "df.head()"
   ]
  },
  {
   "cell_type": "markdown",
   "metadata": {},
   "source": [
    "# Plotting distribution of data for BMI here, it is almost like a normal distribiution"
   ]
  },
  {
   "cell_type": "code",
   "execution_count": 48,
   "metadata": {},
   "outputs": [
    {
     "data": {
      "image/png": "[encoded data removed]",
      "text/plain": [
       "<Figure size 432x288 with 1 Axes>"
      ]
     },
     "metadata": {
      "needs_background": "light"
     },
     "output_type": "display_data"
    },
    {
     "name": "stdout",
     "output_type": "stream",
     "text": [
      "Mean: 31.993\n",
      "Standard Deviation: 7.879\n",
      "Number of samples: 768\n"
     ]
    }
   ],
   "source": [
    "data = list(df['BMI'])\n",
    "mean = np.mean(data)\n",
    "sd = np.std(data)\n",
    "_ = plt.hist(data, bins=int(round(max(data), -1)))\n",
    "plt.plot([mean, mean], [0, 60])\n",
    "plt.title('BMI distribution')\n",
    "plt.show()\n",
    "print('Mean: {:.3f}'.format(mean))\n",
    "print('Standard Deviation: {:.3f}'.format(sd))\n",
    "print('Number of samples: {}'.format(len(data)))"
   ]
  },
  {
   "cell_type": "markdown",
   "metadata": {},
   "source": [
    "## We randomly pick 5 samples from the given data"
   ]
  },
  {
   "cell_type": "code",
   "execution_count": 74,
   "metadata": {},
   "outputs": [],
   "source": [
    "five_samples_1 = random.sample(data, 5)\n",
    "mean_1 = np.mean(five_samples_1)\n",
    "sd_1 = np.mean(five_samples_1)"
   ]
  },
  {
   "cell_type": "markdown",
   "metadata": {},
   "source": [
    "## Plotting the 5 samples we pulled"
   ]
  },
  {
   "cell_type": "code",
   "execution_count": 75,
   "metadata": {},
   "outputs": [
    {
     "data": {
      "image/png": "[encoded data removed]",
      "text/plain": [
       "<Figure size 432x288 with 1 Axes>"
      ]
     },
     "metadata": {
      "needs_background": "light"
     },
     "output_type": "display_data"
    }
   ],
   "source": [
    "data = list(df['BMI'])\n",
    "mean = np.mean(data)\n",
    "sd = np.std(data)\n",
    "_ = plt.hist(data, bins=int(round(max(data), -1)))\n",
    "plt.scatter(five_samples_1, [1 for i in five_samples_1], marker='o', c='r', s=24, zorder=10)\n",
    "plt.title('BMI distribution')\n",
    "plt.show()"
   ]
  },
  {
   "cell_type": "markdown",
   "metadata": {},
   "source": [
    "## Plotting the mean of the new 5 samples"
   ]
  },
  {
   "cell_type": "code",
   "execution_count": 76,
   "metadata": {},
   "outputs": [
    {
     "data": {
      "image/png": "[encoded data removed]",
      "text/plain": [
       "<Figure size 432x288 with 1 Axes>"
      ]
     },
     "metadata": {
      "needs_background": "light"
     },
     "output_type": "display_data"
    },
    {
     "name": "stdout",
     "output_type": "stream",
     "text": [
      "Mean: 35.780\n",
      "Standard Deviation: 35.780\n",
      "Number of samples: 5\n"
     ]
    }
   ],
   "source": [
    "data = list(df['BMI'])\n",
    "mean = np.mean(data)\n",
    "sd = np.std(data)\n",
    "_ = plt.hist(data, bins=int(round(max(data), -1)), alpha=0.5)\n",
    "plt.scatter(five_samples_1, [1 for i in five_samples_1], marker='o', c='r', s=24, zorder=10, alpha=0.5)\n",
    "plt.plot([mean_1, mean_1], [0, 60], color='blue')\n",
    "plt.title('BMI distribution')\n",
    "plt.show()\n",
    "print('Mean: {:.3f}'.format(mean_1))\n",
    "print('Standard Deviation: {:.3f}'.format(sd_1))\n",
    "print('Number of samples: {}'.format(5))"
   ]
  },
  {
   "cell_type": "markdown",
   "metadata": {},
   "source": [
    "## Sampling new points and plotting its mean"
   ]
  },
  {
   "cell_type": "code",
   "execution_count": 77,
   "metadata": {},
   "outputs": [],
   "source": [
    "five_samples_2 = random.sample(data, 5)\n",
    "mean_2 = np.mean(five_samples_2)\n",
    "sd_2 = np.mean(five_samples_2)"
   ]
  },
  {
   "cell_type": "code",
   "execution_count": 78,
   "metadata": {},
   "outputs": [
    {
     "data": {
      "image/png": "[encoded data removed]",
      "text/plain": [
       "<Figure size 432x288 with 1 Axes>"
      ]
     },
     "metadata": {
      "needs_background": "light"
     },
     "output_type": "display_data"
    },
    {
     "name": "stdout",
     "output_type": "stream",
     "text": [
      "Mean: 36.920\n",
      "Standard Deviation: 36.920\n",
      "Number of samples: 5\n"
     ]
    }
   ],
   "source": [
    "data = list(df['BMI'])\n",
    "mean = np.mean(data)\n",
    "sd = np.std(data)\n",
    "_ = plt.hist(data, bins=int(round(max(data), -1)), alpha=0.5)\n",
    "plt.scatter(five_samples_2, [1 for i in five_samples_2], marker='o', c='r', s=24, zorder=10, alpha=0.5)\n",
    "plt.plot([mean_2, mean_2], [0, 60], color='green')\n",
    "plt.title('BMI distribution')\n",
    "plt.show()\n",
    "print('Mean: {:.3f}'.format(mean_2))\n",
    "print('Standard Deviation: {:.3f}'.format(sd_2))\n",
    "print('Number of samples: {}'.format(5))"
   ]
  },
  {
   "cell_type": "markdown",
   "metadata": {},
   "source": [
    "## Once more"
   ]
  },
  {
   "cell_type": "code",
   "execution_count": 79,
   "metadata": {},
   "outputs": [],
   "source": [
    "five_samples_3 = random.sample(data, 5)\n",
    "mean_3 = np.mean(five_samples_3)\n",
    "sd_3 = np.mean(five_samples_3)"
   ]
  },
  {
   "cell_type": "code",
   "execution_count": 81,
   "metadata": {},
   "outputs": [
    {
     "data": {
      "image/png": "[encoded data removed]",
      "text/plain": [
       "<Figure size 432x288 with 1 Axes>"
      ]
     },
     "metadata": {
      "needs_background": "light"
     },
     "output_type": "display_data"
    },
    {
     "name": "stdout",
     "output_type": "stream",
     "text": [
      "Mean: 30.840\n",
      "Standard Deviation: 30.840\n",
      "Number of samples: 5\n"
     ]
    }
   ],
   "source": [
    "data = list(df['BMI'])\n",
    "mean = np.mean(data)\n",
    "sd = np.std(data)\n",
    "_ = plt.hist(data, bins=int(round(max(data), -1)), alpha=0.5)\n",
    "plt.scatter(five_samples_3, [1 for i in five_samples_3], marker='o', c='r', s=24, zorder=10, alpha=0.5)\n",
    "plt.plot([mean_3, mean_3], [0, 60], color='purple')\n",
    "plt.title('BMI distribution')\n",
    "plt.show()\n",
    "print('Mean: {:.3f}'.format(mean_3))\n",
    "print('Standard Deviation: {:.3f}'.format(sd_3))\n",
    "print('Number of samples: {}'.format(5))"
   ]
  },
  {
   "cell_type": "markdown",
   "metadata": {},
   "source": [
    "## Plotting all means together\n",
    "\n",
    "* The orange line is the original mean of the full dataset\n",
    "* We can see that the new means found by sampling the data are still close to the original mean"
   ]
  },
  {
   "cell_type": "code",
   "execution_count": 85,
   "metadata": {},
   "outputs": [
    {
     "data": {
      "image/png": "[encoded data removed]",
      "text/plain": [
       "<Figure size 432x288 with 1 Axes>"
      ]
     },
     "metadata": {
      "needs_background": "light"
     },
     "output_type": "display_data"
    },
    {
     "name": "stdout",
     "output_type": "stream",
     "text": [
      "Mean: 30.840\n",
      "Standard Deviation: 30.840\n",
      "Number of samples: 5\n"
     ]
    }
   ],
   "source": [
    "data = list(df['BMI'])\n",
    "mean = np.mean(data)\n",
    "sd = np.std(data)\n",
    "_ = plt.hist(data, bins=int(round(max(data), -1)), alpha=0.5)\n",
    "plt.scatter(five_samples_1, [1 for i in five_samples_1], marker='o', c='blue', s=24, zorder=10, alpha=0.5)\n",
    "plt.scatter(five_samples_2, [1 for i in five_samples_2], marker='o', c='green', s=24, zorder=10, alpha=0.5)\n",
    "plt.scatter(five_samples_3, [1 for i in five_samples_3], marker='o', c='purple', s=24, zorder=10, alpha=0.5)\n",
    "plt.plot([mean, mean], [0, 60])\n",
    "plt.plot([mean_1, mean_1], [0, 60], color='blue')\n",
    "plt.plot([mean_2, mean_2], [0, 60], color='green')\n",
    "plt.plot([mean_3, mean_3], [0, 60], color='purple')\n",
    "plt.title('BMI distribution')\n",
    "plt.show()\n",
    "print('Mean: {:.3f}'.format(mean_3))\n",
    "print('Standard Deviation: {:.3f}'.format(sd_3))\n",
    "print('Number of samples: {}'.format(5))"
   ]
  },
  {
   "cell_type": "markdown",
   "metadata": {},
   "source": [
    "## Getting the standard deviations of the means we found from the sampling and plotting them\n",
    "\n",
    "The scenario would most likely by that the Standard deviation of the means derived from sampled data will be smaller than the original Standard Deviation of the full data"
   ]
  },
  {
   "cell_type": "code",
   "execution_count": 86,
   "metadata": {},
   "outputs": [],
   "source": [
    "mean_of_means = np.mean([mean_1, mean_2, mean_3])\n",
    "sd_of_means = np.std([mean_1, mean_2, mean_3])"
   ]
  },
  {
   "cell_type": "markdown",
   "metadata": {},
   "source": [
    "# This Standard Deviation of the mean is called the Standard error of the means \n",
    "\n",
    "**It gives us the sense of how much variation we can expect in our means if we took a bunch of 5 independent samples taken from the same population**"
   ]
  },
  {
   "cell_type": "code",
   "execution_count": 87,
   "metadata": {},
   "outputs": [
    {
     "data": {
      "image/png": "[encoded data removed]",
      "text/plain": [
       "<Figure size 432x288 with 1 Axes>"
      ]
     },
     "metadata": {
      "needs_background": "light"
     },
     "output_type": "display_data"
    },
    {
     "name": "stdout",
     "output_type": "stream",
     "text": [
      "Original SD: 7.879\n",
      "SD of sampled data means: 2.639\n"
     ]
    }
   ],
   "source": [
    "plt.hist(data, bins=int(round(max(data), -1)), alpha=0.5)\n",
    "plt.plot([mean_of_means, mean_of_means], [0, 60])\n",
    "plt.plot([mean_of_means - sd_of_means, mean_of_means - sd_of_means], [0, 60], color='red')\n",
    "plt.plot([mean_of_means + sd_of_means, mean_of_means + sd_of_means], [0, 60], color='red')\n",
    "plt.title('BMI distribution')\n",
    "plt.show()\n",
    "print('Original SD: {:.3f}'.format(sd))\n",
    "print('SD of sampled data means: {:.3f}'.format(sd_of_means))"
   ]
  },
  {
   "cell_type": "markdown",
   "metadata": {},
   "source": [
    "# Can we calculate the standard error without repeating an experiment a bunch of times ? \n",
    "\n",
    "**1.) In Rare cases - yes (when the mean is normally distributed) - Let's try and see if our data shows such signs (dependent on our sampling ofcourse)**"
   ]
  },
  {
   "cell_type": "code",
   "execution_count": 88,
   "metadata": {},
   "outputs": [],
   "source": [
    "def get_multiple_means_and_sds(population, sample_size, number_of_samples_to_take):\n",
    "    means = []\n",
    "    sds = []\n",
    "    for i in range(number_of_samples_to_take):\n",
    "        sample = random.sample(population, sample_size)\n",
    "        means.append(np.mean(sample))\n",
    "        sds.append(np.std(sample))\n",
    "        \n",
    "    return pd.DataFrame({'mean': means, 'std_dev': sds})"
   ]
  },
  {
   "cell_type": "code",
   "execution_count": 90,
   "metadata": {},
   "outputs": [],
   "source": [
    "multiple_sample_df = get_multiple_means_and_sds(population=data, sample_size=20, number_of_samples_to_take=500)"
   ]
  },
  {
   "cell_type": "markdown",
   "metadata": {},
   "source": [
    "## plotting the histogram of means"
   ]
  },
  {
   "cell_type": "code",
   "execution_count": 93,
   "metadata": {},
   "outputs": [
    {
     "data": {
      "image/png": "[encoded data removed]",
      "text/plain": [
       "<Figure size 432x288 with 1 Axes>"
      ]
     },
     "metadata": {
      "needs_background": "light"
     },
     "output_type": "display_data"
    }
   ],
   "source": [
    "plt.hist(multiple_sample_df['mean'], bins='auto')\n",
    "plt.show()"
   ]
  },
  {
   "cell_type": "markdown",
   "metadata": {},
   "source": [
    "### Hmm, the means too look normally distributed, here we can use the formula that the standard error is:\n",
    "\n",
    "standard_deviation/square_root(sample_size)"
   ]
  },
  {
   "cell_type": "code",
   "execution_count": 131,
   "metadata": {},
   "outputs": [],
   "source": [
    "sample = random.sample(data, 5)\n",
    "sample_mean = np.mean(sample)\n",
    "sample_sd = np.std(sample)"
   ]
  },
  {
   "cell_type": "code",
   "execution_count": 132,
   "metadata": {},
   "outputs": [
    {
     "data": {
      "text/plain": [
       "2.594085580700837"
      ]
     },
     "execution_count": 132,
     "metadata": {},
     "output_type": "execute_result"
    }
   ],
   "source": [
    "sample_sd/np.sqrt(len(sample)) # not very reliable in this case"
   ]
  },
  {
   "cell_type": "markdown",
   "metadata": {},
   "source": [
    "# But we go to the second way by using a technique called bootstraping"
   ]
  },
  {
   "cell_type": "code",
   "execution_count": 116,
   "metadata": {},
   "outputs": [],
   "source": [
    "## For bootstraping, we pick a sample out of the population\n",
    "sample = random.sample(data, 5)"
   ]
  },
  {
   "cell_type": "code",
   "execution_count": 119,
   "metadata": {},
   "outputs": [],
   "source": [
    "# From this sample, pick a single measurement, repeat this picking 5 times and calculate its mean\n",
    "sub_sample_1 = [random.sample(sample, 1) for i in range(5)]\n",
    "sub_sample_2 = [random.sample(sample, 1) for i in range(5)]\n",
    "sub_sample_3 = [random.sample(sample, 1) for i in range(5)]\n",
    "sub_sample_4 = [random.sample(sample, 1) for i in range(5)]\n",
    "sub_sample_5 = [random.sample(sample, 1) for i in range(5)]\n",
    "sub_sample_6 = [random.sample(sample, 1) for i in range(5)]\n",
    "sub_sample_7 = [random.sample(sample, 1) for i in range(5)]\n",
    "sub_sample_8 = [random.sample(sample, 1) for i in range(5)]\n",
    "sub_sample_9 = [random.sample(sample, 1) for i in range(5)]\n",
    "sub_sample_10 = [random.sample(sample, 1) for i in range(5)]"
   ]
  },
  {
   "cell_type": "code",
   "execution_count": 120,
   "metadata": {},
   "outputs": [],
   "source": [
    "means = [np.mean(sub_sample_1),\n",
    "         np.mean(sub_sample_2),\n",
    "         np.mean(sub_sample_3),\n",
    "         np.mean(sub_sample_4),\n",
    "         np.mean(sub_sample_5),\n",
    "         np.mean(sub_sample_6),\n",
    "         np.mean(sub_sample_7),\n",
    "         np.mean(sub_sample_8),\n",
    "         np.mean(sub_sample_9),\n",
    "         np.mean(sub_sample_10),\n",
    "        ]"
   ]
  },
  {
   "cell_type": "code",
   "execution_count": 122,
   "metadata": {},
   "outputs": [
    {
     "data": {
      "text/plain": [
       "7.544931013601119"
      ]
     },
     "execution_count": 122,
     "metadata": {},
     "output_type": "execute_result"
    }
   ],
   "source": [
    "np.std(means)"
   ]
  },
  {
   "cell_type": "markdown",
   "metadata": {},
   "source": [
    "# Generalized function for bootstrapping"
   ]
  },
  {
   "cell_type": "code",
   "execution_count": 133,
   "metadata": {},
   "outputs": [],
   "source": [
    "def bootstrapping_for_standard_error(population, sample_size, number_of_times_to_repeat):\n",
    "    sample = random.sample(population, sample_size)\n",
    "    \n",
    "    means = []\n",
    "    for i in range(number_of_times_to_repeat):\n",
    "        sub_sample = [random.sample(sample, 1) for x in range(sample_size)]\n",
    "        means.append(np.mean(sub_sample))\n",
    "    \n",
    "    return np.std(means)"
   ]
  },
  {
   "cell_type": "markdown",
   "metadata": {},
   "source": [
    "# The standard error of means depends on the sampling of the population "
   ]
  },
  {
   "cell_type": "code",
   "execution_count": 146,
   "metadata": {},
   "outputs": [
    {
     "data": {
      "text/plain": [
       "1.6764742049909391"
      ]
     },
     "execution_count": 146,
     "metadata": {},
     "output_type": "execute_result"
    }
   ],
   "source": [
    "bootstrapping_for_standard_error(population=data, sample_size=5, number_of_times_to_repeat=50)"
   ]
  },
  {
   "cell_type": "code",
   "execution_count": null,
   "metadata": {},
   "outputs": [],
   "source": []
  }
 ],
 "metadata": {
  "kernelspec": {
   "display_name": "Python 3",
   "language": "python",
   "name": "python3"
  },
  "language_info": {
   "codemirror_mode": {
    "name": "ipython",
    "version": 3
   },
   "file_extension": ".py",
   "mimetype": "text/x-python",
   "name": "python",
   "nbconvert_exporter": "python",
   "pygments_lexer": "ipython3",
   "version": "3.6.9"
  }
 },
 "nbformat": 4,
 "nbformat_minor": 4
}
